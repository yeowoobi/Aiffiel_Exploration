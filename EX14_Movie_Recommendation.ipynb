{
 "cells": [
  {
   "cell_type": "markdown",
   "id": "0d586a8b",
   "metadata": {},
   "source": [
    "# Exploration 14\n",
    "---\n",
    "## 아이유 팬이 좋아할 만한 다른 아티스트 찾기"
   ]
  },
  {
   "cell_type": "markdown",
   "id": "7bb48625",
   "metadata": {},
   "source": [
    "## 1. 데이터 준비와 전처리"
   ]
  },
  {
   "cell_type": "code",
   "execution_count": 1,
   "id": "bb7675f8",
   "metadata": {},
   "outputs": [
    {
     "data": {
      "text/html": [
       "<div>\n",
       "<style scoped>\n",
       "    .dataframe tbody tr th:only-of-type {\n",
       "        vertical-align: middle;\n",
       "    }\n",
       "\n",
       "    .dataframe tbody tr th {\n",
       "        vertical-align: top;\n",
       "    }\n",
       "\n",
       "    .dataframe thead th {\n",
       "        text-align: right;\n",
       "    }\n",
       "</style>\n",
       "<table border=\"1\" class=\"dataframe\">\n",
       "  <thead>\n",
       "    <tr style=\"text-align: right;\">\n",
       "      <th></th>\n",
       "      <th>user_id</th>\n",
       "      <th>movie_id</th>\n",
       "      <th>ratings</th>\n",
       "      <th>timestamp</th>\n",
       "    </tr>\n",
       "  </thead>\n",
       "  <tbody>\n",
       "    <tr>\n",
       "      <th>0</th>\n",
       "      <td>1</td>\n",
       "      <td>1193</td>\n",
       "      <td>5</td>\n",
       "      <td>978300760</td>\n",
       "    </tr>\n",
       "    <tr>\n",
       "      <th>1</th>\n",
       "      <td>1</td>\n",
       "      <td>661</td>\n",
       "      <td>3</td>\n",
       "      <td>978302109</td>\n",
       "    </tr>\n",
       "    <tr>\n",
       "      <th>2</th>\n",
       "      <td>1</td>\n",
       "      <td>914</td>\n",
       "      <td>3</td>\n",
       "      <td>978301968</td>\n",
       "    </tr>\n",
       "    <tr>\n",
       "      <th>3</th>\n",
       "      <td>1</td>\n",
       "      <td>3408</td>\n",
       "      <td>4</td>\n",
       "      <td>978300275</td>\n",
       "    </tr>\n",
       "    <tr>\n",
       "      <th>4</th>\n",
       "      <td>1</td>\n",
       "      <td>2355</td>\n",
       "      <td>5</td>\n",
       "      <td>978824291</td>\n",
       "    </tr>\n",
       "  </tbody>\n",
       "</table>\n",
       "</div>"
      ],
      "text/plain": [
       "   user_id  movie_id  ratings  timestamp\n",
       "0        1      1193        5  978300760\n",
       "1        1       661        3  978302109\n",
       "2        1       914        3  978301968\n",
       "3        1      3408        4  978300275\n",
       "4        1      2355        5  978824291"
      ]
     },
     "execution_count": 1,
     "metadata": {},
     "output_type": "execute_result"
    }
   ],
   "source": [
    "import pandas as pd\n",
    "import os\n",
    "rating_file_path=os.getenv('HOME') + '/aiffel/recommendata_iu/data/ml-1m/ratings.dat'\n",
    "ratings_cols = ['user_id', 'movie_id', 'ratings', 'timestamp']\n",
    "ratings = pd.read_csv(rating_file_path, sep='::', names=ratings_cols, engine='python', encoding = \"ISO-8859-1\")\n",
    "orginal_data_size = len(ratings)\n",
    "ratings.head()"
   ]
  },
  {
   "cell_type": "code",
   "execution_count": 2,
   "id": "8b3e5b88",
   "metadata": {},
   "outputs": [
    {
     "name": "stdout",
     "output_type": "stream",
     "text": [
      "orginal_data_size: 1000209, filtered_data_size: 836478\n",
      "Ratio of Remaining Data is 83.63%\n"
     ]
    }
   ],
   "source": [
    "# 3점 이상만 남기기.\n",
    "ratings = ratings[ratings['ratings']>=3]\n",
    "filtered_data_size = len(ratings)\n",
    "\n",
    "print(f'orginal_data_size: {orginal_data_size}, filtered_data_size: {filtered_data_size}')\n",
    "print(f'Ratio of Remaining Data is {filtered_data_size / orginal_data_size:.2%}')"
   ]
  },
  {
   "cell_type": "code",
   "execution_count": 3,
   "id": "5ca983d7",
   "metadata": {},
   "outputs": [],
   "source": [
    "# ratings 컬럼의 이름을 counts로 바꾸기.\n",
    "ratings.rename(columns={'ratings':'counts'}, inplace=True)"
   ]
  },
  {
   "cell_type": "code",
   "execution_count": 4,
   "id": "ea327485",
   "metadata": {},
   "outputs": [
    {
     "data": {
      "text/plain": [
       "0          5\n",
       "1          3\n",
       "2          3\n",
       "3          4\n",
       "4          5\n",
       "          ..\n",
       "1000203    3\n",
       "1000205    5\n",
       "1000206    5\n",
       "1000207    4\n",
       "1000208    4\n",
       "Name: counts, Length: 836478, dtype: int64"
      ]
     },
     "execution_count": 4,
     "metadata": {},
     "output_type": "execute_result"
    }
   ],
   "source": [
    "ratings['counts']"
   ]
  },
  {
   "cell_type": "code",
   "execution_count": 5,
   "id": "e0ad6f7a",
   "metadata": {},
   "outputs": [
    {
     "data": {
      "text/html": [
       "<div>\n",
       "<style scoped>\n",
       "    .dataframe tbody tr th:only-of-type {\n",
       "        vertical-align: middle;\n",
       "    }\n",
       "\n",
       "    .dataframe tbody tr th {\n",
       "        vertical-align: top;\n",
       "    }\n",
       "\n",
       "    .dataframe thead th {\n",
       "        text-align: right;\n",
       "    }\n",
       "</style>\n",
       "<table border=\"1\" class=\"dataframe\">\n",
       "  <thead>\n",
       "    <tr style=\"text-align: right;\">\n",
       "      <th></th>\n",
       "      <th>movie_id</th>\n",
       "      <th>title</th>\n",
       "      <th>genre</th>\n",
       "    </tr>\n",
       "  </thead>\n",
       "  <tbody>\n",
       "    <tr>\n",
       "      <th>0</th>\n",
       "      <td>1</td>\n",
       "      <td>Toy Story (1995)</td>\n",
       "      <td>Animation|Children's|Comedy</td>\n",
       "    </tr>\n",
       "    <tr>\n",
       "      <th>1</th>\n",
       "      <td>2</td>\n",
       "      <td>Jumanji (1995)</td>\n",
       "      <td>Adventure|Children's|Fantasy</td>\n",
       "    </tr>\n",
       "    <tr>\n",
       "      <th>2</th>\n",
       "      <td>3</td>\n",
       "      <td>Grumpier Old Men (1995)</td>\n",
       "      <td>Comedy|Romance</td>\n",
       "    </tr>\n",
       "    <tr>\n",
       "      <th>3</th>\n",
       "      <td>4</td>\n",
       "      <td>Waiting to Exhale (1995)</td>\n",
       "      <td>Comedy|Drama</td>\n",
       "    </tr>\n",
       "    <tr>\n",
       "      <th>4</th>\n",
       "      <td>5</td>\n",
       "      <td>Father of the Bride Part II (1995)</td>\n",
       "      <td>Comedy</td>\n",
       "    </tr>\n",
       "  </tbody>\n",
       "</table>\n",
       "</div>"
      ],
      "text/plain": [
       "   movie_id                               title                         genre\n",
       "0         1                    Toy Story (1995)   Animation|Children's|Comedy\n",
       "1         2                      Jumanji (1995)  Adventure|Children's|Fantasy\n",
       "2         3             Grumpier Old Men (1995)                Comedy|Romance\n",
       "3         4            Waiting to Exhale (1995)                  Comedy|Drama\n",
       "4         5  Father of the Bride Part II (1995)                        Comedy"
      ]
     },
     "execution_count": 5,
     "metadata": {},
     "output_type": "execute_result"
    }
   ],
   "source": [
    "# 영화 제목을 보기 위해 메타 데이터를 읽어오기.\n",
    "movie_file_path=os.getenv('HOME') + '/aiffel/recommendata_iu/data/ml-1m/movies.dat'\n",
    "cols = ['movie_id', 'title', 'genre'] \n",
    "movies = pd.read_csv(movie_file_path, sep='::', names=cols, engine='python', encoding='ISO-8859-1')\n",
    "movies.head()"
   ]
  },
  {
   "cell_type": "code",
   "execution_count": 6,
   "id": "b2369dbc",
   "metadata": {},
   "outputs": [],
   "source": [
    "df1 = ratings.set_index(\"movie_id\")"
   ]
  },
  {
   "cell_type": "code",
   "execution_count": 7,
   "id": "472ba581",
   "metadata": {},
   "outputs": [],
   "source": [
    "ratings2 = ratings.join(movies.set_index('movie_id'), on='movie_id')"
   ]
  },
  {
   "cell_type": "code",
   "execution_count": 8,
   "id": "a5dc57f4",
   "metadata": {},
   "outputs": [],
   "source": [
    "using_cols = ['user_id', 'movie_id', 'counts', 'title']"
   ]
  },
  {
   "cell_type": "code",
   "execution_count": 9,
   "id": "e7cfaf68",
   "metadata": {},
   "outputs": [
    {
     "data": {
      "text/html": [
       "<div>\n",
       "<style scoped>\n",
       "    .dataframe tbody tr th:only-of-type {\n",
       "        vertical-align: middle;\n",
       "    }\n",
       "\n",
       "    .dataframe tbody tr th {\n",
       "        vertical-align: top;\n",
       "    }\n",
       "\n",
       "    .dataframe thead th {\n",
       "        text-align: right;\n",
       "    }\n",
       "</style>\n",
       "<table border=\"1\" class=\"dataframe\">\n",
       "  <thead>\n",
       "    <tr style=\"text-align: right;\">\n",
       "      <th></th>\n",
       "      <th>user_id</th>\n",
       "      <th>movie_id</th>\n",
       "      <th>counts</th>\n",
       "      <th>title</th>\n",
       "    </tr>\n",
       "  </thead>\n",
       "  <tbody>\n",
       "    <tr>\n",
       "      <th>0</th>\n",
       "      <td>1</td>\n",
       "      <td>1193</td>\n",
       "      <td>5</td>\n",
       "      <td>One Flew Over the Cuckoo's Nest (1975)</td>\n",
       "    </tr>\n",
       "    <tr>\n",
       "      <th>1</th>\n",
       "      <td>1</td>\n",
       "      <td>661</td>\n",
       "      <td>3</td>\n",
       "      <td>James and the Giant Peach (1996)</td>\n",
       "    </tr>\n",
       "    <tr>\n",
       "      <th>2</th>\n",
       "      <td>1</td>\n",
       "      <td>914</td>\n",
       "      <td>3</td>\n",
       "      <td>My Fair Lady (1964)</td>\n",
       "    </tr>\n",
       "    <tr>\n",
       "      <th>3</th>\n",
       "      <td>1</td>\n",
       "      <td>3408</td>\n",
       "      <td>4</td>\n",
       "      <td>Erin Brockovich (2000)</td>\n",
       "    </tr>\n",
       "    <tr>\n",
       "      <th>4</th>\n",
       "      <td>1</td>\n",
       "      <td>2355</td>\n",
       "      <td>5</td>\n",
       "      <td>Bug's Life, A (1998)</td>\n",
       "    </tr>\n",
       "    <tr>\n",
       "      <th>5</th>\n",
       "      <td>1</td>\n",
       "      <td>1197</td>\n",
       "      <td>3</td>\n",
       "      <td>Princess Bride, The (1987)</td>\n",
       "    </tr>\n",
       "    <tr>\n",
       "      <th>6</th>\n",
       "      <td>1</td>\n",
       "      <td>1287</td>\n",
       "      <td>5</td>\n",
       "      <td>Ben-Hur (1959)</td>\n",
       "    </tr>\n",
       "    <tr>\n",
       "      <th>7</th>\n",
       "      <td>1</td>\n",
       "      <td>2804</td>\n",
       "      <td>5</td>\n",
       "      <td>Christmas Story, A (1983)</td>\n",
       "    </tr>\n",
       "    <tr>\n",
       "      <th>8</th>\n",
       "      <td>1</td>\n",
       "      <td>594</td>\n",
       "      <td>4</td>\n",
       "      <td>Snow White and the Seven Dwarfs (1937)</td>\n",
       "    </tr>\n",
       "    <tr>\n",
       "      <th>9</th>\n",
       "      <td>1</td>\n",
       "      <td>919</td>\n",
       "      <td>4</td>\n",
       "      <td>Wizard of Oz, The (1939)</td>\n",
       "    </tr>\n",
       "  </tbody>\n",
       "</table>\n",
       "</div>"
      ],
      "text/plain": [
       "   user_id  movie_id  counts                                   title\n",
       "0        1      1193       5  One Flew Over the Cuckoo's Nest (1975)\n",
       "1        1       661       3        James and the Giant Peach (1996)\n",
       "2        1       914       3                     My Fair Lady (1964)\n",
       "3        1      3408       4                  Erin Brockovich (2000)\n",
       "4        1      2355       5                    Bug's Life, A (1998)\n",
       "5        1      1197       3              Princess Bride, The (1987)\n",
       "6        1      1287       5                          Ben-Hur (1959)\n",
       "7        1      2804       5               Christmas Story, A (1983)\n",
       "8        1       594       4  Snow White and the Seven Dwarfs (1937)\n",
       "9        1       919       4                Wizard of Oz, The (1939)"
      ]
     },
     "execution_count": 9,
     "metadata": {},
     "output_type": "execute_result"
    }
   ],
   "source": [
    "ratings2 = ratings2[using_cols]\n",
    "ratings2.head(10)"
   ]
  },
  {
   "cell_type": "markdown",
   "id": "5edc8a13",
   "metadata": {},
   "source": [
    "## 2. 데이터 분석"
   ]
  },
  {
   "cell_type": "markdown",
   "id": "83e049fd",
   "metadata": {},
   "source": [
    "- ratings에 있는 유니크한 영화 개수\n",
    "- ratings 에 있는 유니크한 사용자 수\n",
    "- 가장 인기 있는 영화 30개(인기순)"
   ]
  },
  {
   "cell_type": "code",
   "execution_count": 10,
   "id": "73aa8359",
   "metadata": {},
   "outputs": [
    {
     "data": {
      "text/plain": [
       "3628"
      ]
     },
     "execution_count": 10,
     "metadata": {},
     "output_type": "execute_result"
    }
   ],
   "source": [
    "# 영화 개수\n",
    "ratings2['movie_id'].nunique()"
   ]
  },
  {
   "cell_type": "code",
   "execution_count": 11,
   "id": "af852b96",
   "metadata": {},
   "outputs": [
    {
     "data": {
      "text/plain": [
       "6039"
      ]
     },
     "execution_count": 11,
     "metadata": {},
     "output_type": "execute_result"
    }
   ],
   "source": [
    "# 유저 수\n",
    "ratings2['user_id'].nunique()"
   ]
  },
  {
   "cell_type": "code",
   "execution_count": 12,
   "id": "1a2a8f41",
   "metadata": {},
   "outputs": [
    {
     "data": {
      "text/plain": [
       "title\n",
       "American Beauty (1999)                                   3211\n",
       "Star Wars: Episode IV - A New Hope (1977)                2910\n",
       "Star Wars: Episode V - The Empire Strikes Back (1980)    2885\n",
       "Star Wars: Episode VI - Return of the Jedi (1983)        2716\n",
       "Saving Private Ryan (1998)                               2561\n",
       "Terminator 2: Judgment Day (1991)                        2509\n",
       "Silence of the Lambs, The (1991)                         2498\n",
       "Raiders of the Lost Ark (1981)                           2473\n",
       "Back to the Future (1985)                                2460\n",
       "Matrix, The (1999)                                       2434\n",
       "Jurassic Park (1993)                                     2413\n",
       "Sixth Sense, The (1999)                                  2385\n",
       "Fargo (1996)                                             2371\n",
       "Braveheart (1995)                                        2314\n",
       "Men in Black (1997)                                      2297\n",
       "Schindler's List (1993)                                  2257\n",
       "Princess Bride, The (1987)                               2252\n",
       "Shakespeare in Love (1998)                               2213\n",
       "L.A. Confidential (1997)                                 2210\n",
       "Shawshank Redemption, The (1994)                         2194\n",
       "Godfather, The (1972)                                    2167\n",
       "Groundhog Day (1993)                                     2121\n",
       "E.T. the Extra-Terrestrial (1982)                        2102\n",
       "Being John Malkovich (1999)                              2066\n",
       "Ghostbusters (1984)                                      2051\n",
       "Pulp Fiction (1994)                                      2030\n",
       "Forrest Gump (1994)                                      2022\n",
       "Terminator, The (1984)                                   2019\n",
       "Toy Story (1995)                                         2000\n",
       "Fugitive, The (1993)                                     1941\n",
       "Name: user_id, dtype: int64"
      ]
     },
     "execution_count": 12,
     "metadata": {},
     "output_type": "execute_result"
    }
   ],
   "source": [
    "movie_count = ratings2.groupby('title')['user_id'].count()\n",
    "movie_count.sort_values(ascending=False).head(30)"
   ]
  },
  {
   "cell_type": "code",
   "execution_count": 13,
   "id": "211906e9",
   "metadata": {},
   "outputs": [
    {
     "data": {
      "text/plain": [
       "count    6039.000000\n",
       "mean      138.512668\n",
       "std       156.241599\n",
       "min         1.000000\n",
       "25%        38.000000\n",
       "50%        81.000000\n",
       "75%       177.000000\n",
       "max      1968.000000\n",
       "Name: title, dtype: float64"
      ]
     },
     "execution_count": 13,
     "metadata": {},
     "output_type": "execute_result"
    }
   ],
   "source": [
    "# 유저별 몇 명의 영화를 보는 지에 대한 통계\n",
    "user_count = ratings2.groupby('user_id')['title'].count()\n",
    "user_count.describe()"
   ]
  },
  {
   "cell_type": "markdown",
   "id": "0da18866",
   "metadata": {},
   "source": [
    "## 3. 선호하는 영화 5가지를 골라 ratings에 추가"
   ]
  },
  {
   "cell_type": "code",
   "execution_count": 14,
   "id": "9ee3cb17",
   "metadata": {},
   "outputs": [
    {
     "data": {
      "text/html": [
       "<div>\n",
       "<style scoped>\n",
       "    .dataframe tbody tr th:only-of-type {\n",
       "        vertical-align: middle;\n",
       "    }\n",
       "\n",
       "    .dataframe tbody tr th {\n",
       "        vertical-align: top;\n",
       "    }\n",
       "\n",
       "    .dataframe thead th {\n",
       "        text-align: right;\n",
       "    }\n",
       "</style>\n",
       "<table border=\"1\" class=\"dataframe\">\n",
       "  <thead>\n",
       "    <tr style=\"text-align: right;\">\n",
       "      <th></th>\n",
       "      <th>user_id</th>\n",
       "      <th>movie_id</th>\n",
       "      <th>counts</th>\n",
       "      <th>title</th>\n",
       "    </tr>\n",
       "  </thead>\n",
       "  <tbody>\n",
       "    <tr>\n",
       "      <th>1000203</th>\n",
       "      <td>6040</td>\n",
       "      <td>1090</td>\n",
       "      <td>3</td>\n",
       "      <td>Platoon (1986)</td>\n",
       "    </tr>\n",
       "    <tr>\n",
       "      <th>1000205</th>\n",
       "      <td>6040</td>\n",
       "      <td>1094</td>\n",
       "      <td>5</td>\n",
       "      <td>Crying Game, The (1992)</td>\n",
       "    </tr>\n",
       "    <tr>\n",
       "      <th>1000206</th>\n",
       "      <td>6040</td>\n",
       "      <td>562</td>\n",
       "      <td>5</td>\n",
       "      <td>Welcome to the Dollhouse (1995)</td>\n",
       "    </tr>\n",
       "    <tr>\n",
       "      <th>1000207</th>\n",
       "      <td>6040</td>\n",
       "      <td>1096</td>\n",
       "      <td>4</td>\n",
       "      <td>Sophie's Choice (1982)</td>\n",
       "    </tr>\n",
       "    <tr>\n",
       "      <th>1000208</th>\n",
       "      <td>6040</td>\n",
       "      <td>1097</td>\n",
       "      <td>4</td>\n",
       "      <td>E.T. the Extra-Terrestrial (1982)</td>\n",
       "    </tr>\n",
       "    <tr>\n",
       "      <th>0</th>\n",
       "      <td>minkyun</td>\n",
       "      <td>2297</td>\n",
       "      <td>5</td>\n",
       "      <td>Men in Black (1997)</td>\n",
       "    </tr>\n",
       "    <tr>\n",
       "      <th>1</th>\n",
       "      <td>minkyun</td>\n",
       "      <td>2434</td>\n",
       "      <td>5</td>\n",
       "      <td>Matrix, The (1999)</td>\n",
       "    </tr>\n",
       "    <tr>\n",
       "      <th>2</th>\n",
       "      <td>minkyun</td>\n",
       "      <td>2716</td>\n",
       "      <td>5</td>\n",
       "      <td>Star Wars: Episode VI - Return of the Jedi (1983)</td>\n",
       "    </tr>\n",
       "    <tr>\n",
       "      <th>3</th>\n",
       "      <td>minkyun</td>\n",
       "      <td>2102</td>\n",
       "      <td>5</td>\n",
       "      <td>E.T. the Extra-Terrestrial (1982)</td>\n",
       "    </tr>\n",
       "    <tr>\n",
       "      <th>4</th>\n",
       "      <td>minkyun</td>\n",
       "      <td>2000</td>\n",
       "      <td>5</td>\n",
       "      <td>Toy Story (1995)</td>\n",
       "    </tr>\n",
       "  </tbody>\n",
       "</table>\n",
       "</div>"
      ],
      "text/plain": [
       "         user_id movie_id  counts  \\\n",
       "1000203     6040     1090       3   \n",
       "1000205     6040     1094       5   \n",
       "1000206     6040      562       5   \n",
       "1000207     6040     1096       4   \n",
       "1000208     6040     1097       4   \n",
       "0        minkyun     2297       5   \n",
       "1        minkyun     2434       5   \n",
       "2        minkyun     2716       5   \n",
       "3        minkyun     2102       5   \n",
       "4        minkyun     2000       5   \n",
       "\n",
       "                                                     title  \n",
       "1000203                                     Platoon (1986)  \n",
       "1000205                            Crying Game, The (1992)  \n",
       "1000206                    Welcome to the Dollhouse (1995)  \n",
       "1000207                             Sophie's Choice (1982)  \n",
       "1000208                  E.T. the Extra-Terrestrial (1982)  \n",
       "0                                      Men in Black (1997)  \n",
       "1                                       Matrix, The (1999)  \n",
       "2        Star Wars: Episode VI - Return of the Jedi (1983)  \n",
       "3                        E.T. the Extra-Terrestrial (1982)  \n",
       "4                                         Toy Story (1995)  "
      ]
     },
     "execution_count": 14,
     "metadata": {},
     "output_type": "execute_result"
    }
   ],
   "source": [
    "my_favorite = ['Men in Black (1997)','Matrix, The (1999)','Star Wars: Episode VI - Return of the Jedi (1983)','E.T. the Extra-Terrestrial (1982)','Toy Story (1995)']\n",
    "my_favorite_id = ['2297','2434','2716','2102','2000']\n",
    "\n",
    "# 'zimin'이라는 user_id가 위 아티스트의 노래를 30회씩 들었다고 가정하자.\n",
    "my_movielist = pd.DataFrame({'user_id': ['minkyun']*5, 'movie_id' : my_favorite_id,'counts':[5]*5, 'title': my_favorite})\n",
    "\n",
    "if not ratings2.isin({'user_id':['minkyun']})['user_id'].any():  # user_id에 'zimin'이라는 데이터가 없다면\n",
    "    ratings2 = ratings2.append(my_movielist)                           # 위에 임의로 만든 my_favorite 데이터를 추가.\n",
    "\n",
    "ratings2.tail(10)       # 잘 추가되었는지 확인."
   ]
  },
  {
   "cell_type": "markdown",
   "id": "fb3d2a68",
   "metadata": {},
   "source": [
    "## 4. CSR matrix 생성"
   ]
  },
  {
   "cell_type": "code",
   "execution_count": 15,
   "id": "76a2d46c",
   "metadata": {},
   "outputs": [],
   "source": [
    "# 고유한 유저, 아티스트를 찾아내는 코드\n",
    "user_unique = ratings2['user_id'].unique()\n",
    "movie_unique = ratings2['title'].unique()\n",
    "\n",
    "# 유저, 아티스트 indexing 하는 코드 idx는 index의 약자이다.\n",
    "user_to_idx = {v:k for k,v in enumerate(user_unique)}\n",
    "movie_to_idx = {v:k for k,v in enumerate(movie_unique)}"
   ]
  },
  {
   "cell_type": "code",
   "execution_count": 16,
   "id": "f4cf9cc8",
   "metadata": {},
   "outputs": [
    {
     "name": "stdout",
     "output_type": "stream",
     "text": [
      "6039\n",
      "175\n"
     ]
    }
   ],
   "source": [
    "# 인덱싱이 잘 되었는지 확인. \n",
    "print(user_to_idx['minkyun'])\n",
    "print(movie_to_idx['Men in Black (1997)'])"
   ]
  },
  {
   "cell_type": "code",
   "execution_count": 17,
   "id": "7406fb2c",
   "metadata": {},
   "outputs": [
    {
     "name": "stdout",
     "output_type": "stream",
     "text": [
      "user_id column indexing OK!!\n",
      "title column indexing OK!!\n"
     ]
    },
    {
     "data": {
      "text/html": [
       "<div>\n",
       "<style scoped>\n",
       "    .dataframe tbody tr th:only-of-type {\n",
       "        vertical-align: middle;\n",
       "    }\n",
       "\n",
       "    .dataframe tbody tr th {\n",
       "        vertical-align: top;\n",
       "    }\n",
       "\n",
       "    .dataframe thead th {\n",
       "        text-align: right;\n",
       "    }\n",
       "</style>\n",
       "<table border=\"1\" class=\"dataframe\">\n",
       "  <thead>\n",
       "    <tr style=\"text-align: right;\">\n",
       "      <th></th>\n",
       "      <th>user_id</th>\n",
       "      <th>movie_id</th>\n",
       "      <th>counts</th>\n",
       "      <th>title</th>\n",
       "    </tr>\n",
       "  </thead>\n",
       "  <tbody>\n",
       "    <tr>\n",
       "      <th>0</th>\n",
       "      <td>0</td>\n",
       "      <td>1193</td>\n",
       "      <td>5</td>\n",
       "      <td>0</td>\n",
       "    </tr>\n",
       "    <tr>\n",
       "      <th>1</th>\n",
       "      <td>0</td>\n",
       "      <td>661</td>\n",
       "      <td>3</td>\n",
       "      <td>1</td>\n",
       "    </tr>\n",
       "    <tr>\n",
       "      <th>2</th>\n",
       "      <td>0</td>\n",
       "      <td>914</td>\n",
       "      <td>3</td>\n",
       "      <td>2</td>\n",
       "    </tr>\n",
       "    <tr>\n",
       "      <th>3</th>\n",
       "      <td>0</td>\n",
       "      <td>3408</td>\n",
       "      <td>4</td>\n",
       "      <td>3</td>\n",
       "    </tr>\n",
       "    <tr>\n",
       "      <th>4</th>\n",
       "      <td>0</td>\n",
       "      <td>2355</td>\n",
       "      <td>5</td>\n",
       "      <td>4</td>\n",
       "    </tr>\n",
       "    <tr>\n",
       "      <th>...</th>\n",
       "      <td>...</td>\n",
       "      <td>...</td>\n",
       "      <td>...</td>\n",
       "      <td>...</td>\n",
       "    </tr>\n",
       "    <tr>\n",
       "      <th>0</th>\n",
       "      <td>6039</td>\n",
       "      <td>2297</td>\n",
       "      <td>5</td>\n",
       "      <td>175</td>\n",
       "    </tr>\n",
       "    <tr>\n",
       "      <th>1</th>\n",
       "      <td>6039</td>\n",
       "      <td>2434</td>\n",
       "      <td>5</td>\n",
       "      <td>124</td>\n",
       "    </tr>\n",
       "    <tr>\n",
       "      <th>2</th>\n",
       "      <td>6039</td>\n",
       "      <td>2716</td>\n",
       "      <td>5</td>\n",
       "      <td>64</td>\n",
       "    </tr>\n",
       "    <tr>\n",
       "      <th>3</th>\n",
       "      <td>6039</td>\n",
       "      <td>2102</td>\n",
       "      <td>5</td>\n",
       "      <td>26</td>\n",
       "    </tr>\n",
       "    <tr>\n",
       "      <th>4</th>\n",
       "      <td>6039</td>\n",
       "      <td>2000</td>\n",
       "      <td>5</td>\n",
       "      <td>40</td>\n",
       "    </tr>\n",
       "  </tbody>\n",
       "</table>\n",
       "<p>836483 rows × 4 columns</p>\n",
       "</div>"
      ],
      "text/plain": [
       "    user_id movie_id  counts  title\n",
       "0         0     1193       5      0\n",
       "1         0      661       3      1\n",
       "2         0      914       3      2\n",
       "3         0     3408       4      3\n",
       "4         0     2355       5      4\n",
       "..      ...      ...     ...    ...\n",
       "0      6039     2297       5    175\n",
       "1      6039     2434       5    124\n",
       "2      6039     2716       5     64\n",
       "3      6039     2102       5     26\n",
       "4      6039     2000       5     40\n",
       "\n",
       "[836483 rows x 4 columns]"
      ]
     },
     "execution_count": 17,
     "metadata": {},
     "output_type": "execute_result"
    }
   ],
   "source": [
    "# indexing을 통해 데이터 컬럼 내 값을 바꾸는 코드\n",
    "# dictionary 자료형의 get 함수는 https://wikidocs.net/16 에서 참고할 수 있다.\n",
    "\n",
    "# user_to_idx.get을 통해 user_id 컬럼의 모든 값을 인덱싱한 Series를 구해 보자. \n",
    "# 혹시 정상적으로 인덱싱되지 않은 row가 있다면 인덱스가 NaN이 될 테니 dropna()로 제거. \n",
    "temp_user_data = ratings2['user_id'].map(user_to_idx.get).dropna()\n",
    "if len(temp_user_data) == len(ratings2):   # 모든 row가 정상적으로 인덱싱되었다면\n",
    "    print('user_id column indexing OK!!')\n",
    "    ratings2['user_id'] = temp_user_data   # data['user_id']을 인덱싱된 Series로 교체해 준다. \n",
    "else:\n",
    "    print('user_id column indexing Fail!!')\n",
    "\n",
    "# movie_to_idx을 통해 title 컬럼도 동일한 방식으로 인덱싱해 주자. \n",
    "temp_movie_data = ratings2['title'].map(movie_to_idx.get).dropna()\n",
    "if len(temp_movie_data) == len(ratings2):\n",
    "    print('title column indexing OK!!')\n",
    "    ratings2['title'] = temp_movie_data\n",
    "else:\n",
    "    print('title column indexing Fail!!')\n",
    "\n",
    "ratings2"
   ]
  },
  {
   "cell_type": "code",
   "execution_count": 18,
   "id": "494217c8",
   "metadata": {},
   "outputs": [
    {
     "data": {
      "text/plain": [
       "<6040x3628 sparse matrix of type '<class 'numpy.int64'>'\n",
       "\twith 836483 stored elements in Compressed Sparse Row format>"
      ]
     },
     "execution_count": 18,
     "metadata": {},
     "output_type": "execute_result"
    }
   ],
   "source": [
    "# 실습 위에 설명보고 이해해서 만들어보기\n",
    "from scipy.sparse import csr_matrix\n",
    "\n",
    "num_user = ratings2['user_id'].nunique()\n",
    "num_movie = ratings2['title'].nunique()\n",
    "\n",
    "csr_data = csr_matrix((ratings2.counts, (ratings2.user_id, ratings2.title)), shape= (num_user, num_movie))\n",
    "csr_data"
   ]
  },
  {
   "cell_type": "markdown",
   "id": "86345e3e",
   "metadata": {},
   "source": [
    "## 5. als_model = AlternatingLeastSquares 모델 구성 및 훈련"
   ]
  },
  {
   "cell_type": "code",
   "execution_count": 19,
   "id": "2a238adc",
   "metadata": {},
   "outputs": [],
   "source": [
    "from implicit.als import AlternatingLeastSquares\n",
    "import os\n",
    "import numpy as np\n",
    "\n",
    "os.environ['OPENBLAS_NUM_THREADS']='1'\n",
    "os.environ['KMP_DUPLICATE_LIB_OK']='True'\n",
    "os.environ['MKL_NUM_THREADS']='1'"
   ]
  },
  {
   "cell_type": "code",
   "execution_count": 20,
   "id": "bd915e22",
   "metadata": {},
   "outputs": [],
   "source": [
    "# Implicit AlternatingLeastSquares 모델의 선언\n",
    "als_model = AlternatingLeastSquares(factors=100, regularization=0.01, use_gpu=False, iterations=25, dtype=np.float32)"
   ]
  },
  {
   "cell_type": "code",
   "execution_count": 21,
   "id": "fe7b7545",
   "metadata": {},
   "outputs": [
    {
     "data": {
      "text/plain": [
       "<3628x6040 sparse matrix of type '<class 'numpy.int64'>'\n",
       "\twith 836483 stored elements in Compressed Sparse Column format>"
      ]
     },
     "execution_count": 21,
     "metadata": {},
     "output_type": "execute_result"
    }
   ],
   "source": [
    "# als 모델은 input으로 (item X user 꼴의 matrix를 받기 때문에 Transpose 해준다.)\n",
    "csr_data_transpose = csr_data.T\n",
    "csr_data_transpose"
   ]
  },
  {
   "cell_type": "code",
   "execution_count": 22,
   "id": "89ce1f08",
   "metadata": {},
   "outputs": [
    {
     "data": {
      "application/vnd.jupyter.widget-view+json": {
       "model_id": "c3877716b117461fb72b0be8efa184a9",
       "version_major": 2,
       "version_minor": 0
      },
      "text/plain": [
       "  0%|          | 0/25 [00:00<?, ?it/s]"
      ]
     },
     "metadata": {},
     "output_type": "display_data"
    }
   ],
   "source": [
    "# 모델 훈련\n",
    "als_model.fit(csr_data_transpose)"
   ]
  },
  {
   "cell_type": "markdown",
   "id": "fb290d05",
   "metadata": {},
   "source": [
    "## 6. 선호하는 5가지 영화 중 하나와 그 외의 영화 하나를 골라 훈려된 모델이 예측한 나의 선호도를 파악"
   ]
  },
  {
   "cell_type": "markdown",
   "id": "a4c957ee",
   "metadata": {},
   "source": [
    "### 1) 선호하는 영화"
   ]
  },
  {
   "cell_type": "code",
   "execution_count": 23,
   "id": "bc3cbd36",
   "metadata": {},
   "outputs": [
    {
     "name": "stdout",
     "output_type": "stream",
     "text": [
      "슝=3\n"
     ]
    }
   ],
   "source": [
    "minkyun, Matrix = user_to_idx['minkyun'], movie_to_idx['Matrix, The (1999)']\n",
    "minkyun_vector, Matrix_vector = als_model.user_factors[minkyun], als_model.item_factors[Matrix]\n",
    "\n",
    "print('슝=3')"
   ]
  },
  {
   "cell_type": "code",
   "execution_count": 24,
   "id": "a17fb597",
   "metadata": {},
   "outputs": [
    {
     "data": {
      "text/plain": [
       "array([ 0.14158677, -0.40971172,  0.77231604, -0.00914211, -0.1592182 ,\n",
       "        0.428794  , -0.1295235 ,  0.18537569, -0.10385872,  0.2727913 ,\n",
       "        0.15445888,  0.59562975,  0.46898818,  0.2581612 , -0.67381155,\n",
       "        0.11750712, -0.5704141 , -0.39718187, -0.18119913, -0.02279573,\n",
       "        0.17541769,  0.75613   ,  0.31828326, -0.49428055, -0.29748708,\n",
       "        0.3973257 ,  1.055043  ,  0.73621386,  0.24202849,  0.4699721 ,\n",
       "        0.26699144, -0.6788639 ,  0.59100723, -0.87513494, -0.6779426 ,\n",
       "        0.11347741,  0.25590688,  0.45322242, -0.26724494, -0.18240272,\n",
       "        0.68088305,  0.34147882, -0.20391175,  0.11801398, -0.89049137,\n",
       "       -0.7206135 ,  0.19894582,  0.2708665 , -0.48913914,  0.35975114,\n",
       "        0.1890185 , -0.18450072, -0.07409647, -0.0568486 , -0.47448725,\n",
       "       -0.22437751,  0.36088434,  0.30121788, -0.05147341,  0.03569239,\n",
       "        0.36375958,  0.71417373, -0.24734598, -0.7830929 ,  0.26712608,\n",
       "       -0.1890063 ,  0.09243056,  0.0964978 ,  1.3714051 , -0.38347772,\n",
       "       -0.38614866,  0.7068103 ,  0.4244115 , -0.03794296, -0.6560823 ,\n",
       "       -0.15459237, -0.06074168, -0.19782956,  0.33232313, -0.37308192,\n",
       "        0.48100019,  0.54366446,  0.47928894, -0.87611413, -0.17730185,\n",
       "       -0.1736539 ,  0.38388216, -0.29069287, -0.1881152 , -0.32000208,\n",
       "       -0.33617893, -0.27100533,  0.01919454, -0.6808251 ,  0.7653107 ,\n",
       "        0.08012978,  0.35230014, -0.9246984 ,  0.29947805, -0.69706595],\n",
       "      dtype=float32)"
      ]
     },
     "execution_count": 24,
     "metadata": {},
     "output_type": "execute_result"
    }
   ],
   "source": [
    "minkyun_vector"
   ]
  },
  {
   "cell_type": "code",
   "execution_count": 25,
   "id": "cfc92bee",
   "metadata": {
    "scrolled": true
   },
   "outputs": [
    {
     "data": {
      "text/plain": [
       "array([ 1.01123191e-02, -1.72124822e-02,  1.29720969e-02, -9.55387671e-03,\n",
       "       -2.92892382e-03,  1.00064687e-02,  8.83549266e-03,  8.24009441e-03,\n",
       "       -1.21760629e-02,  4.42326218e-02,  2.80490480e-02,  4.03170474e-02,\n",
       "       -3.52975971e-04,  2.48380266e-02, -3.26271504e-02,  1.72942411e-02,\n",
       "       -2.64395177e-02, -8.45297985e-03,  1.15785357e-02, -5.99881494e-03,\n",
       "        3.02858893e-02,  2.11327113e-02,  1.02789197e-02, -1.82280280e-02,\n",
       "        3.24250525e-03,  2.86207367e-02,  1.17970956e-02,  3.13710049e-02,\n",
       "        4.26863618e-02,  4.47370745e-02,  1.53146386e-02, -1.26405563e-02,\n",
       "        9.80153400e-03,  3.10666836e-03, -2.46529337e-02,  1.24367867e-02,\n",
       "        1.87180173e-02, -1.57086644e-02, -1.86242945e-02,  1.75638534e-02,\n",
       "        5.72623266e-03, -4.54295333e-03,  3.37129682e-02,  1.11096678e-02,\n",
       "       -4.02354868e-03,  1.24353981e-02,  2.40348466e-02,  1.15697337e-02,\n",
       "        2.08638539e-03,  1.49399843e-02, -1.49465576e-02, -3.03192995e-03,\n",
       "       -1.96144264e-02, -1.04290657e-02, -1.29938461e-02,  2.76838131e-02,\n",
       "        2.23222710e-02,  2.05725767e-02,  5.48155978e-03,  1.51814511e-02,\n",
       "        2.69501284e-03,  3.31097171e-02, -1.53338909e-02, -2.67239697e-02,\n",
       "        8.79878644e-03,  1.20048586e-03, -8.54154991e-04,  2.41812393e-02,\n",
       "        2.68799569e-02, -1.68172438e-02, -2.00346764e-02,  4.23860066e-02,\n",
       "        2.20523253e-02,  4.65959357e-03, -2.23313197e-02,  2.51443051e-02,\n",
       "        9.12321906e-04, -1.61214750e-02,  2.42347196e-02, -1.05089331e-02,\n",
       "        2.12403666e-02,  2.48953924e-02, -3.33753851e-05, -2.61671543e-02,\n",
       "       -6.33454043e-03, -2.26535625e-03,  4.60688584e-02, -1.87333059e-02,\n",
       "        1.06252516e-02, -5.77960629e-03, -1.57238673e-02, -1.66325998e-02,\n",
       "       -2.90235085e-03, -2.71573104e-02,  9.67998989e-03,  1.52735915e-02,\n",
       "        1.14920288e-02, -3.09851207e-02,  1.87951978e-02,  9.58011113e-03],\n",
       "      dtype=float32)"
      ]
     },
     "execution_count": 25,
     "metadata": {},
     "output_type": "execute_result"
    }
   ],
   "source": [
    "Matrix_vector"
   ]
  },
  {
   "cell_type": "code",
   "execution_count": 26,
   "id": "ddb2ef3f",
   "metadata": {},
   "outputs": [
    {
     "data": {
      "text/plain": [
       "0.5837185"
      ]
     },
     "execution_count": 26,
     "metadata": {},
     "output_type": "execute_result"
    }
   ],
   "source": [
    "# zimin과 black_eyed_peas를 내적하는 코드\n",
    "np.dot(minkyun_vector, Matrix_vector)"
   ]
  },
  {
   "cell_type": "code",
   "execution_count": 27,
   "id": "8d889ba1",
   "metadata": {},
   "outputs": [
    {
     "data": {
      "text/plain": [
       "0.27498633"
      ]
     },
     "execution_count": 27,
     "metadata": {},
     "output_type": "execute_result"
    }
   ],
   "source": [
    "Braveheart = movie_to_idx['Braveheart (1995)']\n",
    "Braveheart_vector = als_model.item_factors[Braveheart]\n",
    "np.dot(minkyun_vector, Braveheart_vector)"
   ]
  },
  {
   "cell_type": "code",
   "execution_count": 28,
   "id": "20913069",
   "metadata": {},
   "outputs": [
    {
     "name": "stdout",
     "output_type": "stream",
     "text": [
      "     movie_id              title             genre\n",
      "108       110  Braveheart (1995)  Action|Drama|War\n"
     ]
    }
   ],
   "source": [
    "print (movies.loc[movies['title'] == 'Braveheart (1995)'])"
   ]
  },
  {
   "cell_type": "markdown",
   "id": "2e47e91a",
   "metadata": {},
   "source": [
    "## 7. 내가 좋아하는 영화와 비슷한 영화를 추천받기"
   ]
  },
  {
   "cell_type": "code",
   "execution_count": 29,
   "id": "1cd17121",
   "metadata": {},
   "outputs": [
    {
     "data": {
      "text/plain": [
       "[(124, 1.0),\n",
       " (92, 0.77656054),\n",
       " (62, 0.67102724),\n",
       " (200, 0.5675946),\n",
       " (141, 0.54841626),\n",
       " (145, 0.5481634),\n",
       " (107, 0.51591516),\n",
       " (375, 0.48792705),\n",
       " (175, 0.45036307),\n",
       " (317, 0.42505172),\n",
       " (75, 0.4222443),\n",
       " (44, 0.39126346),\n",
       " (117, 0.36725572),\n",
       " (193, 0.3633525),\n",
       " (479, 0.34451026)]"
      ]
     },
     "execution_count": 29,
     "metadata": {},
     "output_type": "execute_result"
    }
   ],
   "source": [
    "favorite_movie = 'Matrix, The (1999)'\n",
    "movie_id = movie_to_idx[favorite_movie]\n",
    "similar_movie = als_model.similar_items(movie_id, N=15)\n",
    "similar_movie"
   ]
  },
  {
   "cell_type": "code",
   "execution_count": 30,
   "id": "e6f84c5b",
   "metadata": {},
   "outputs": [
    {
     "data": {
      "text/plain": [
       "['Matrix, The (1999)',\n",
       " 'Terminator 2: Judgment Day (1991)',\n",
       " 'Total Recall (1990)',\n",
       " 'Terminator, The (1984)',\n",
       " 'Fugitive, The (1993)',\n",
       " 'Fifth Element, The (1997)',\n",
       " 'Jurassic Park (1993)',\n",
       " 'Face/Off (1997)',\n",
       " 'Men in Black (1997)',\n",
       " 'Twelve Monkeys (1995)',\n",
       " 'Hunt for Red October, The (1990)',\n",
       " 'Star Wars: Episode IV - A New Hope (1977)',\n",
       " 'Star Wars: Episode V - The Empire Strikes Back (1980)',\n",
       " 'Alien (1979)',\n",
       " 'Contact (1997)']"
      ]
     },
     "execution_count": 30,
     "metadata": {},
     "output_type": "execute_result"
    }
   ],
   "source": [
    "#artist_to_idx 를 뒤집어, index로부터 artist 이름을 얻는 dict를 생성합니다. \n",
    "idx_to_movie = {v:k for k,v in movie_to_idx.items()}\n",
    "[idx_to_movie[i[0]] for i in similar_movie]"
   ]
  },
  {
   "cell_type": "code",
   "execution_count": 31,
   "id": "fe3617c0",
   "metadata": {},
   "outputs": [
    {
     "name": "stdout",
     "output_type": "stream",
     "text": [
      "슝=3\n"
     ]
    }
   ],
   "source": [
    "def get_similar_movie(movie_name: str):\n",
    "    movie_id = movie_to_idx[movie_name]\n",
    "    similar_movie = als_model.similar_items(movie_id)\n",
    "    similar_movie = [idx_to_movie[i[0]] for i in similar_movie]\n",
    "    return similar_movie\n",
    "\n",
    "print(\"슝=3\")"
   ]
  },
  {
   "cell_type": "code",
   "execution_count": 32,
   "id": "eb5f84ba",
   "metadata": {},
   "outputs": [
    {
     "data": {
      "text/plain": [
       "['Matrix, The (1999)',\n",
       " 'Terminator 2: Judgment Day (1991)',\n",
       " 'Total Recall (1990)',\n",
       " 'Terminator, The (1984)',\n",
       " 'Fugitive, The (1993)',\n",
       " 'Fifth Element, The (1997)',\n",
       " 'Jurassic Park (1993)',\n",
       " 'Face/Off (1997)',\n",
       " 'Men in Black (1997)',\n",
       " 'Twelve Monkeys (1995)']"
      ]
     },
     "execution_count": 32,
     "metadata": {},
     "output_type": "execute_result"
    }
   ],
   "source": [
    "get_similar_movie('Matrix, The (1999)')"
   ]
  },
  {
   "cell_type": "markdown",
   "id": "f0514a0f",
   "metadata": {},
   "source": [
    "## 8. 내가 가장 좋아할 만한 영화들을 추천"
   ]
  },
  {
   "cell_type": "code",
   "execution_count": 33,
   "id": "55b69a7f",
   "metadata": {},
   "outputs": [
    {
     "data": {
      "text/plain": [
       "[(117, 0.611336),\n",
       " (44, 0.57017756),\n",
       " (92, 0.5324728),\n",
       " (60, 0.51625264),\n",
       " (107, 0.488379),\n",
       " (22, 0.42072985),\n",
       " (50, 0.37725553),\n",
       " (160, 0.31556457),\n",
       " (4, 0.31548274),\n",
       " (322, 0.3029769),\n",
       " (62, 0.28613216),\n",
       " (670, 0.27534655),\n",
       " (87, 0.27498633),\n",
       " (99, 0.26587522),\n",
       " (200, 0.26205027),\n",
       " (5, 0.25703767),\n",
       " (317, 0.25694093),\n",
       " (120, 0.25455558),\n",
       " (110, 0.24128345),\n",
       " (141, 0.23880862)]"
      ]
     },
     "execution_count": 33,
     "metadata": {},
     "output_type": "execute_result"
    }
   ],
   "source": [
    "user = user_to_idx['minkyun']\n",
    "# recommend에서는 user*item CSR Matrix를 받습니다.\n",
    "movie_recommended = als_model.recommend(user, csr_data, N=20, filter_already_liked_items=True)\n",
    "movie_recommended"
   ]
  },
  {
   "cell_type": "code",
   "execution_count": 34,
   "id": "62a15b30",
   "metadata": {},
   "outputs": [
    {
     "data": {
      "text/plain": [
       "['Star Wars: Episode V - The Empire Strikes Back (1980)',\n",
       " 'Star Wars: Episode IV - A New Hope (1977)',\n",
       " 'Terminator 2: Judgment Day (1991)',\n",
       " 'Star Wars: Episode I - The Phantom Menace (1999)',\n",
       " 'Jurassic Park (1993)',\n",
       " 'Back to the Future (1985)',\n",
       " 'Toy Story 2 (1999)',\n",
       " 'Forrest Gump (1994)',\n",
       " \"Bug's Life, A (1998)\",\n",
       " 'Babe (1995)',\n",
       " 'Total Recall (1990)',\n",
       " 'Galaxy Quest (1999)',\n",
       " 'Braveheart (1995)',\n",
       " 'American Beauty (1999)',\n",
       " 'Terminator, The (1984)',\n",
       " 'Princess Bride, The (1987)',\n",
       " 'Twelve Monkeys (1995)',\n",
       " 'Raiders of the Lost Ark (1981)',\n",
       " 'Groundhog Day (1993)',\n",
       " 'Fugitive, The (1993)']"
      ]
     },
     "execution_count": 34,
     "metadata": {},
     "output_type": "execute_result"
    }
   ],
   "source": [
    "[idx_to_movie[i[0]] for i in movie_recommended]"
   ]
  },
  {
   "cell_type": "code",
   "execution_count": 35,
   "id": "1769f48b",
   "metadata": {},
   "outputs": [],
   "source": [
    "# 추천에 기여한 정도\n",
    "Xman = movie_to_idx['X-Men (2000)']\n",
    "explain = als_model.explain(user, csr_data, itemid=Xman)"
   ]
  },
  {
   "cell_type": "code",
   "execution_count": 36,
   "id": "cf12e476",
   "metadata": {},
   "outputs": [
    {
     "data": {
      "text/plain": [
       "[('Matrix, The (1999)', 0.1123100775760715),\n",
       " ('Star Wars: Episode VI - Return of the Jedi (1983)', 0.06607174087700818),\n",
       " ('Men in Black (1997)', 0.04374438838721238),\n",
       " ('Toy Story (1995)', -0.005706328812545284),\n",
       " ('E.T. the Extra-Terrestrial (1982)', -0.02411263224834979)]"
      ]
     },
     "execution_count": 36,
     "metadata": {},
     "output_type": "execute_result"
    }
   ],
   "source": [
    "[(idx_to_movie[i[0]], i[1]) for i in explain[1]]"
   ]
  },
  {
   "cell_type": "markdown",
   "id": "e831fe79",
   "metadata": {},
   "source": [
    "# 회고"
   ]
  },
  {
   "cell_type": "markdown",
   "id": "12bbda19",
   "metadata": {},
   "source": [
    "## 1. 모델에 대한 평가"
   ]
  },
  {
   "cell_type": "markdown",
   "id": "c67158fc",
   "metadata": {},
   "source": [
    "이번 프로젝트는 음악 추천 알고리즘을 설계한 경험을 바탕으로 영화 추천 시스템 모델을 설계하는 프로젝트였다. 기본적으로 방식이 거의 동일 했지만, 음악 추천에서는 기준을 플레이 횟수로 하였으나 영화 추천에서는 별점을 시청 횟수로 가정하여 프로젝트를 진행하였다. <br>\n",
    "결과를 살펴보면 선호영화로 추가하였던 `Matrix`의 경우, 0.5837 정도로 애매하긴 하지만 0.5는 넘는 값을 보여주고 있다. `epoch`을 바꿔가며 시행하였으나 15 ~ 25 시행에서는 0.58값을 크게 벗어나지 않았다. 추천 영화의 장르는 `genre`을 제거 하여 ratings 데이타셋을 확인해보면 Sci-fi가 많았다. 이에 반해 `Braveheart`에 대한 선호도 값을 살펴보면 0.27 정도로 장르가 다소 다르기 때문에 낮은 값이 측정된 것으로 보인다."
   ]
  },
  {
   "cell_type": "markdown",
   "id": "fc4ff629",
   "metadata": {},
   "source": [
    "## 2. 후기"
   ]
  },
  {
   "cell_type": "markdown",
   "id": "4f1022ea",
   "metadata": {},
   "source": [
    "Pandas 의 숙련도가 얼마나 중요한 지 새삼 느끼게 되었다. 기존 노드의 데이터 셋과 달리 이번에는 ratings, movies 두가지 데이터에서, `movie_id` column 을 바탕으로 합쳐야 수월하게 프로젝트가 진행이 가능했는데, 이 부분에 대한 숙련도가 미흡해서 약간 애를 먹었다. 처음 진행해보는 추천시스템은 결과가 충분히 납득되는 것 같아 프로젝트를 진행함에 있어서도 만족스러웠던 것 같다."
   ]
  },
  {
   "cell_type": "markdown",
   "id": "347c045e",
   "metadata": {},
   "source": [
    "## 3. Reference"
   ]
  },
  {
   "cell_type": "markdown",
   "id": "dd8dc683",
   "metadata": {},
   "source": [
    "https://ahnty0122.tistory.com/51"
   ]
  }
 ],
 "metadata": {
  "kernelspec": {
   "display_name": "Python 3 (ipykernel)",
   "language": "python",
   "name": "python3"
  },
  "language_info": {
   "codemirror_mode": {
    "name": "ipython",
    "version": 3
   },
   "file_extension": ".py",
   "mimetype": "text/x-python",
   "name": "python",
   "nbconvert_exporter": "python",
   "pygments_lexer": "ipython3",
   "version": "3.9.7"
  }
 },
 "nbformat": 4,
 "nbformat_minor": 5
}
